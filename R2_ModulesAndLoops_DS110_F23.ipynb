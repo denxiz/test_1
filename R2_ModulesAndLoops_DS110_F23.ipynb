{
  "cells": [
    {
      "cell_type": "markdown",
      "metadata": {
        "id": "view-in-github",
        "colab_type": "text"
      },
      "source": [
        "<a href=\"https://colab.research.google.com/github/denxiz/test_1/blob/main/R2_ModulesAndLoops_DS110_F23.ipynb\" target=\"_parent\"><img src=\"https://colab.research.google.com/assets/colab-badge.svg\" alt=\"Open In Colab\"/></a>"
      ]
    },
    {
      "cell_type": "markdown",
      "metadata": {
        "id": "Bv4gY-7zzUHI"
      },
      "source": [
        "1.  Use matplotlib to plot the points:  (2,3), (4, 5), (8,9). Plot them as both points and lines connecting the points."
      ]
    },
    {
      "cell_type": "code",
      "execution_count": 5,
      "metadata": {
        "colab": {
          "base_uri": "https://localhost:8080/",
          "height": 447
        },
        "id": "brwrokHdzCSl",
        "outputId": "b1c60fca-0c8c-4ef4-ea23-feec8c46dfad"
      },
      "outputs": [
        {
          "output_type": "execute_result",
          "data": {
            "text/plain": [
              "[<matplotlib.lines.Line2D at 0x78d335543f70>]"
            ]
          },
          "metadata": {},
          "execution_count": 5
        },
        {
          "output_type": "display_data",
          "data": {
            "text/plain": [
              "<Figure size 640x480 with 1 Axes>"
            ],
            "image/png": "[encoded data removed]"
          },
          "metadata": {}
        }
      ],
      "source": [
        "import matplotlib.pyplot as plt\n",
        "\n",
        "x = [2,4,8]\n",
        "y = [3,5,9]\n",
        "\n",
        "plt.plot(x,y,'ro')\n",
        "plt.plot(x,y)"
      ]
    },
    {
      "cell_type": "markdown",
      "metadata": {
        "id": "v6K_7jYKdyKB"
      },
      "source": [
        "2.  Use a loop to find the average of the numbers in mylist."
      ]
    },
    {
      "cell_type": "code",
      "execution_count": 15,
      "metadata": {
        "colab": {
          "base_uri": "https://localhost:8080/"
        },
        "id": "Vp92PMARefVD",
        "outputId": "7191514c-fd76-46a2-e5fe-ec84489c82ca"
      },
      "outputs": [
        {
          "output_type": "execute_result",
          "data": {
            "text/plain": [
              "8.4"
            ]
          },
          "metadata": {},
          "execution_count": 15
        }
      ],
      "source": [
        "x = 0\n",
        "\n",
        "mylist = [3, 4, 5, 10, 20]\n",
        "\n",
        "for i in mylist:\n",
        " x += i\n",
        " y = x/len(mylist)\n",
        "\n",
        "y"
      ]
    },
    {
      "cell_type": "markdown",
      "metadata": {
        "id": "VO9G7bxHbNBI"
      },
      "source": [
        "3. Write a loop that iterates through every string in the list mystrings and builds a new list where all the strings of the original list are in upper case (use the upper() string method).  Hint:  start with an empty list and append() the modified strings as you iterate through."
      ]
    },
    {
      "cell_type": "code",
      "execution_count": 17,
      "metadata": {
        "colab": {
          "base_uri": "https://localhost:8080/"
        },
        "id": "zGKX3Pfpc0-9",
        "outputId": "2f882af6-0a8e-451f-8c24-02f2ab3a6716"
      },
      "outputs": [
        {
          "output_type": "stream",
          "name": "stdout",
          "text": [
            "['TO', 'BE', 'OR', 'NOT', 'TO', 'BE']\n"
          ]
        }
      ],
      "source": [
        "mystrings = ['To', 'be', 'or', 'not', 'to', 'be']\n",
        "new = []\n",
        "for i in mystrings:\n",
        "  new.append(i.upper())\n",
        "\n",
        "print(new)"
      ]
    },
    {
      "cell_type": "markdown",
      "metadata": {
        "id": "opDiGIln1PbC"
      },
      "source": [
        "4. Iterate through the following list of tuples to find and print the worst movie (movie with the lowest second element)."
      ]
    },
    {
      "cell_type": "code",
      "execution_count": 42,
      "metadata": {
        "colab": {
          "base_uri": "https://localhost:8080/"
        },
        "id": "Z1bHvgdI1Xsu",
        "outputId": "d1062b20-37fb-405c-a0a4-739ff7287817"
      },
      "outputs": [
        {
          "output_type": "stream",
          "name": "stdout",
          "text": [
            "Cats 1.5\n"
          ]
        }
      ],
      "source": [
        "movies = [('Plan 9 from Outer Space', 2),\n",
        "          ('Cats', 1.5),\n",
        "          ('The Matrix Reloaded', 2),\n",
        "          ('The Fifth Element', 2.5)]\n",
        "score1 = 5\n",
        "lowmovie = ''\n",
        "for name, score in movies:\n",
        "  if score < score1:\n",
        "    score1 = score\n",
        "    lowmovie = name\n",
        "\n",
        "print(lowmovie, score1)"
      ]
    },
    {
      "cell_type": "markdown",
      "metadata": {
        "id": "B3qinv7hz0w5"
      },
      "source": [
        "5. Write a loop that iterates through a list and prints every other item, starting with printing the 0th item.  (Hint:  If the index is divided by 2, the remainder should be 0 to print.)"
      ]
    },
    {
      "cell_type": "code",
      "execution_count": 49,
      "metadata": {
        "colab": {
          "base_uri": "https://localhost:8080/"
        },
        "id": "4gPr7u3-zzdO",
        "outputId": "f61c5912-76ae-482f-ece5-b68b9bdf814e"
      },
      "outputs": [
        {
          "output_type": "execute_result",
          "data": {
            "text/plain": [
              "[1, 3, 5, 7, 9]"
            ]
          },
          "metadata": {},
          "execution_count": 49
        }
      ],
      "source": [
        "a = [0,1,2,3,4,5,6,7,8,9]\n",
        "b = []\n",
        "\n",
        "for i in a:\n",
        "  if (i%2) != 0:\n",
        "    b.append(i)\n",
        "b\n",
        ""
      ]
    },
    {
      "cell_type": "markdown",
      "metadata": {
        "id": "-rg1oeoDfofQ"
      },
      "source": [
        "6. Plot the curve $f(x) = x^3$ from x = 0 to x = 5.  Use np.linspace to get a lot of equally spaced x values, and recall that using exponentiation on a vector raises each element to that power."
      ]
    },
    {
      "cell_type": "code",
      "execution_count": 53,
      "metadata": {
        "colab": {
          "base_uri": "https://localhost:8080/",
          "height": 447
        },
        "id": "8LTRGG4ggRzX",
        "outputId": "fd017b5c-a150-46ca-c8ba-7f07d3ba04bf"
      },
      "outputs": [
        {
          "output_type": "execute_result",
          "data": {
            "text/plain": [
              "[<matplotlib.lines.Line2D at 0x78d32b43df60>]"
            ]
          },
          "metadata": {},
          "execution_count": 53
        },
        {
          "output_type": "display_data",
          "data": {
            "text/plain": [
              "<Figure size 640x480 with 1 Axes>"
            ],
            "image/png": "[encoded data removed]"
          },
          "metadata": {}
        }
      ],
      "source": [
        "x = np.linspace(1,5,num=100)\n",
        "y = []\n",
        "\n",
        "for i in x:\n",
        "  y.append(i**3)\n",
        "\n",
        "plt.plot(x,y)"
      ]
    },
    {
      "cell_type": "markdown",
      "metadata": {
        "id": "Nx0j8bW1odvb"
      },
      "source": [
        "# Tool focus:  The Linter\n",
        "\n",
        "Besides just working, programs are also supposed to be human-readable.  For every programming language, there are a variety of rules that are commonly followed as a matter of convention in order to achieve a more consistent, readable style across programmers.  For example, when writing a=2+2, is it better to write a = 2 + 2?  (Yes.)"
      ]
    },
    {
      "cell_type": "markdown",
      "metadata": {
        "id": "Qku-5JeFodvb"
      },
      "source": [
        "Rather than spend class time teaching these rules (which are laid out extensively for Python in a document called [PEP8](https://peps.python.org/pep-0008/)), we introduce you to a kind of program that checks your code for style \"violations\" automatically.  These kinds of programs are called \"linters.\"  We don't grade on style much in this course, but if you were to submit code as part of a job application process, you'd want to be sure it obeyed all the rules."
      ]
    },
    {
      "cell_type": "markdown",
      "metadata": {
        "id": "34aowKxEodvb"
      },
      "source": [
        "Run the following to ensure the necessary libraries are present.\n"
      ]
    },
    {
      "cell_type": "code",
      "execution_count": 54,
      "metadata": {
        "colab": {
          "base_uri": "https://localhost:8080/"
        },
        "id": "cko6Uvzrodvb",
        "outputId": "54f00503-cdbe-458e-8448-22a10f6b6c58"
      },
      "outputs": [
        {
          "output_type": "stream",
          "name": "stdout",
          "text": [
            "Collecting pycodestyle\n",
            "  Downloading pycodestyle-2.11.0-py2.py3-none-any.whl (31 kB)\n",
            "Collecting pycodestyle_magic\n",
            "  Downloading pycodestyle_magic-0.5-py2.py3-none-any.whl (9.5 kB)\n",
            "Installing collected packages: pycodestyle_magic, pycodestyle\n",
            "Successfully installed pycodestyle-2.11.0 pycodestyle_magic-0.5\n",
            "Collecting flake8\n",
            "  Downloading flake8-6.1.0-py2.py3-none-any.whl (58 kB)\n",
            "\u001b[2K     \u001b[90m━━━━━━━━━━━━━━━━━━━━━━━━━━━━━━━━━━━━━━━━\u001b[0m \u001b[32m58.3/58.3 kB\u001b[0m \u001b[31m1.5 MB/s\u001b[0m eta \u001b[36m0:00:00\u001b[0m\n",
            "\u001b[?25hCollecting mccabe<0.8.0,>=0.7.0 (from flake8)\n",
            "  Downloading mccabe-0.7.0-py2.py3-none-any.whl (7.3 kB)\n",
            "Requirement already satisfied: pycodestyle<2.12.0,>=2.11.0 in /usr/local/lib/python3.10/dist-packages (from flake8) (2.11.0)\n",
            "Collecting pyflakes<3.2.0,>=3.1.0 (from flake8)\n",
            "  Downloading pyflakes-3.1.0-py2.py3-none-any.whl (62 kB)\n",
            "\u001b[2K     \u001b[90m━━━━━━━━━━━━━━━━━━━━━━━━━━━━━━━━━━━━━━━━\u001b[0m \u001b[32m62.6/62.6 kB\u001b[0m \u001b[31m5.2 MB/s\u001b[0m eta \u001b[36m0:00:00\u001b[0m\n",
            "\u001b[?25hInstalling collected packages: pyflakes, mccabe, flake8\n",
            "Successfully installed flake8-6.1.0 mccabe-0.7.0 pyflakes-3.1.0\n"
          ]
        }
      ],
      "source": [
        "!pip install pycodestyle pycodestyle_magic\n",
        "!pip install flake8\n",
        "%load_ext pycodestyle_magic"
      ]
    },
    {
      "cell_type": "markdown",
      "metadata": {
        "id": "EnNihVkbodvc"
      },
      "source": [
        "And now, for any code box that you want to check against style rules, begin the box with: %%pycodestyle"
      ]
    },
    {
      "cell_type": "code",
      "execution_count": 55,
      "metadata": {
        "id": "UqurR6Wuodvc"
      },
      "outputs": [],
      "source": [
        "%%pycodestyle\n",
        "\n",
        "a=2+2"
      ]
    },
    {
      "cell_type": "markdown",
      "metadata": {
        "id": "HVmbZdekodvc"
      },
      "source": [
        "Try playing with the code box until the first lint error, about missing whitespace, goes away.  You can ignore the error about the blank line at the end of the file; that's just an artifact of using a code box.  Notice that the box doesn't actually run unless you remove the pycodestyle line."
      ]
    },
    {
      "cell_type": "markdown",
      "metadata": {
        "id": "DLFwqwT5odvd"
      },
      "source": [
        "Here's a box with more style problems.  Try fixing them all, besides the blank line issue.  (Notice that some things that seem like bad style, like importing things you don't use, actually aren't detected; and some things you might have thought were syntax errors, like weird indentation, are just style issues.)"
      ]
    },
    {
      "cell_type": "code",
      "execution_count": 56,
      "metadata": {
        "colab": {
          "base_uri": "https://localhost:8080/"
        },
        "id": "Zna5QJ7todvd",
        "outputId": "76eb9f69-54d1-40cc-a930-a7dbb28ab5f7"
      },
      "outputs": [
        {
          "output_type": "stream",
          "name": "stderr",
          "text": [
            "INFO:pycodestyle:3:19: W291 trailing whitespace\n",
            "INFO:pycodestyle:4:2: E111 indentation is not a multiple of 4\n",
            "INFO:pycodestyle:4:14: E401 multiple imports on one line\n",
            "INFO:pycodestyle:5:2: E111 indentation is not a multiple of 4\n",
            "INFO:pycodestyle:6:1: W391 blank line at end of file\n"
          ]
        }
      ],
      "source": [
        "%%pycodestyle\n",
        "\n",
        "for i in range(5):\n",
        " import numpy, math\n",
        " print(\"Happy birthday!\")"
      ]
    },
    {
      "cell_type": "markdown",
      "metadata": {
        "id": "kI5OtmgPodvd"
      },
      "source": [
        "Try linting your answers to the problems earlier in this notebook, and show your style-compliant answers to the TA to finish this section.  (After linting, comment out %%pycodestyle so that the TA can see the real output.)\n",
        "\n",
        "You don't *have* to obey style rules, but you should be aware of how your habits differ from convention.  You might have to unlearn some habits if a future employer always runs a linter on your code (Google does)."
      ]
    },
    {
      "cell_type": "code",
      "execution_count": 56,
      "metadata": {
        "id": "UPp-LtEHodvd"
      },
      "outputs": [],
      "source": []
    }
  ],
  "metadata": {
    "colab": {
      "provenance": [],
      "include_colab_link": true
    },
    "kernelspec": {
      "display_name": "Python 3",
      "language": "python",
      "name": "python3"
    },
    "language_info": {
      "codemirror_mode": {
        "name": "ipython",
        "version": 3
      },
      "file_extension": ".py",
      "mimetype": "text/x-python",
      "name": "python",
      "nbconvert_exporter": "python",
      "pygments_lexer": "ipython3",
      "version": "3.8.8"
    }
  },
  "nbformat": 4,
  "nbformat_minor": 0
}